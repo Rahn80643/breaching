{
 "cells": [
  {
   "cell_type": "markdown",
   "id": "3ebef44a",
   "metadata": {},
   "source": [
    "# Inverting Gradients - How easy is it to break privacy in federated learning?"
   ]
  },
  {
   "cell_type": "markdown",
   "id": "a756fc5f",
   "metadata": {},
   "source": [
    "This notebook shows an example for a **small-batch image gradient inversion** as described in \"Inverting Gradients - How easy is it to break privacy in federated learning?\". The setting is a trained ResNet-18 and the federated learning algorithm is **fedAVG**.\n",
    "\n",
    "Paper URL: https://proceedings.neurips.cc/paper/2020/hash/c4ede56bbd98819ae6112b20ac6bf145-Abstract.html"
   ]
  },
  {
   "cell_type": "markdown",
   "id": "6366c2f3",
   "metadata": {},
   "source": [
    "This notebook can replicate the experiments in Fig.5 and Tab. 2 of this paper."
   ]
  },
  {
   "cell_type": "markdown",
   "id": "b31823a2",
   "metadata": {},
   "source": [
    "#### Abstract\n",
    "The idea of federated learning is to collaboratively train a neural network on a server. Each user receives the current weights of the network and in turns sends parameter updates (gradients) based on local data. This protocol has been designed not only to train neural networks data-efficiently, but also to provide privacy benefits for users, as their input data remains on device and only parameter gradients are shared. But how secure is sharing parameter gradients? Previous attacks have provided a false sense of security, by succeeding only in contrived settings - even for a single image. However, by exploiting a magnitude-invariant loss along with optimization strategies based on adversarial attacks, we show that is is actually possible to faithfully reconstruct images at high resolution from the knowledge of their parameter gradients, and demonstrate that such a break of privacy is possible even for trained deep networks. We analyze the effects of architecture as well as parameters on the difficulty of reconstructing an input image and prove that any input to a fully connected layer can be reconstructed analytically independent of the remaining architecture. Finally we discuss settings encountered in practice and show that even averaging gradients over several iterations or several images does not protect the user's privacy in federated learning applications."
   ]
  },
  {
   "cell_type": "markdown",
   "id": "28c7223c",
   "metadata": {},
   "source": [
    "### Startup"
   ]
  },
  {
   "cell_type": "code",
   "execution_count": 1,
   "id": "b850eabf",
   "metadata": {},
   "outputs": [],
   "source": [
    "try:\n",
    "    import breaching\n",
    "except ModuleNotFoundError:\n",
    "    # You only really need this safety net if you want to run these notebooks directly in the examples directory\n",
    "    # Don't worry about this if you installed the package or moved the notebook to the main directory.\n",
    "    import os; os.chdir(\"..\")\n",
    "    import breaching\n",
    "    \n",
    "    \n",
    "import torch\n",
    "%load_ext autoreload\n",
    "%autoreload 2\n",
    "\n",
    "# Redirects logs directly into the jupyter notebook\n",
    "import logging, sys\n",
    "logging.basicConfig(level=logging.INFO, handlers=[logging.StreamHandler(sys.stdout)], format='%(message)s')\n",
    "logger = logging.getLogger()"
   ]
  },
  {
   "cell_type": "markdown",
   "id": "88d5e214",
   "metadata": {},
   "source": [
    "### Initialize cfg object and system setup:"
   ]
  },
  {
   "cell_type": "markdown",
   "id": "56bd663b",
   "metadata": {},
   "source": [
    "This will load the full configuration object. This includes the configuration for the use case and threat model as `cfg.case` and the hyperparameters and implementation of the attack as `cfg.attack`. All parameters can be modified below, or overriden with `overrides=` as if they were cmd-line arguments."
   ]
  },
  {
   "cell_type": "code",
   "execution_count": 2,
   "id": "a7dc3a48",
   "metadata": {},
   "outputs": [
    {
     "name": "stdout",
     "output_type": "stream",
     "text": [
      "Investigating use case fedavg_small_scale with server type honest_but_curious.\n"
     ]
    },
    {
     "data": {
      "text/plain": [
       "{'device': device(type='cuda', index=0), 'dtype': torch.float32}"
      ]
     },
     "execution_count": 2,
     "metadata": {},
     "output_type": "execute_result"
    }
   ],
   "source": [
    "cfg = breaching.get_config(overrides=[\"case=4_fedavg_small_scale\", \"case/data=CIFAR10\"])\n",
    "          \n",
    "device = torch.device(f'cuda:0') if torch.cuda.is_available() else torch.device('cpu')\n",
    "torch.backends.cudnn.benchmark = cfg.case.impl.benchmark\n",
    "setup = dict(device=device, dtype=getattr(torch, cfg.case.impl.dtype))\n",
    "setup"
   ]
  },
  {
   "cell_type": "markdown",
   "id": "203c5fb1",
   "metadata": {},
   "source": [
    "### Modify config options here"
   ]
  },
  {
   "cell_type": "markdown",
   "id": "6e0764ef",
   "metadata": {},
   "source": [
    "You can use `.attribute` access to modify any of these configurations for the attack, or the case:"
   ]
  },
  {
   "cell_type": "code",
   "execution_count": 3,
   "id": "ac118ea0",
   "metadata": {},
   "outputs": [],
   "source": [
    "cfg.case.data.partition=\"random\"\n",
    "cfg.case.user.user_idx = 1\n",
    "cfg.case.model='resnet18'\n",
    "\n",
    "cfg.case.user.provide_labels = True\n",
    "\n",
    "# These settings govern the total amount of user data and how it is used over multiple local update steps:\n",
    "cfg.case.user.num_data_points = 4\n",
    "cfg.case.user.num_local_updates = 4\n",
    "cfg.case.user.num_data_per_local_update_step = 2\n",
    "\n",
    "\n",
    "# Total variation regularization needs to be smaller on CIFAR-10:\n",
    "cfg.attack.regularization.total_variation.scale = 1e-3\n",
    "\n",
    "max_length=100"
   ]
  },
  {
   "cell_type": "markdown",
   "id": "76f64389",
   "metadata": {},
   "source": [
    "### Instantiate all parties"
   ]
  },
  {
   "cell_type": "markdown",
   "id": "ce37e668",
   "metadata": {},
   "source": [
    "The following lines generate \"server, \"user\" and \"attacker\" objects and print an overview of their configurations."
   ]
  },
  {
   "cell_type": "code",
   "execution_count": 4,
   "id": "d3abd955",
   "metadata": {},
   "outputs": [
    {
     "name": "stdout",
     "output_type": "stream",
     "text": [
      "Files already downloaded and verified\n",
      "Model architecture resnet18 loaded with 11,173,962 parameters and 9,620 buffers.\n",
      "Overall this is a data ratio of     909:1 for target shape [4, 3, 32, 32] given that num_queries=1.\n",
      "User (of type UserMultiStep) with settings:\n",
      "    Number of data points: 4\n",
      "\n",
      "    Threat model:\n",
      "    User provides labels: True\n",
      "    User provides buffers: False\n",
      "    User provides number of data points: True\n",
      "\n",
      "    Data:\n",
      "    Dataset: CIFAR10\n",
      "    user: 1\n",
      "    \n",
      "        \n",
      "    Local FL Setup:\n",
      "        Number of local update steps: 4\n",
      "        Data per local update step: 2\n",
      "        Local learning rate: 0.001\n",
      "\n",
      "        Threat model:\n",
      "        Share these hyperparams to server: True\n",
      "\n",
      "        \n",
      "Server (of type HonestServer) with settings:\n",
      "    Threat model: Honest-but-curious\n",
      "    Number of planned queries: 1\n",
      "    Has external/public data: False\n",
      "\n",
      "    Model:\n",
      "        model specification: resnet18\n",
      "        model state: default\n",
      "        public buffers: True\n",
      "\n",
      "    Secrets: {}\n",
      "    \n",
      "Attacker (of type OptimizationBasedAttacker) with settings:\n",
      "    Hyperparameter Template: invertinggradients\n",
      "\n",
      "    Objective: Cosine Similarity with scale=1.0 and task reg=0.0\n",
      "    Regularizers: Total Variation, scale=0.001. p=1 q=1. \n",
      "    Augmentations: \n",
      "\n",
      "    Optimization Setup:\n",
      "        optimizer: adam\n",
      "        signed: hard\n",
      "        step_size: 0.1\n",
      "        boxed: True\n",
      "        max_iterations: 24000\n",
      "        step_size_decay: step-lr\n",
      "        langevin_noise: 0.0\n",
      "        warmup: 0\n",
      "        grad_clip: None\n",
      "        callback: 100\n",
      "        \n"
     ]
    }
   ],
   "source": [
    "user, server, model, loss_fn = breaching.cases.construct_case(cfg.case, setup)\n",
    "attacker = breaching.attacks.prepare_attack(server.model, server.loss, cfg.attack, setup)\n",
    "breaching.utils.overview(server, user, attacker)"
   ]
  },
  {
   "cell_type": "markdown",
   "id": "548c0ad6",
   "metadata": {},
   "source": [
    "### Simulate an attacked FL protocol"
   ]
  },
  {
   "cell_type": "markdown",
   "id": "2058bcc2",
   "metadata": {},
   "source": [
    "This exchange is a simulation of a single query in a federated learning protocol. The server sends out a `server_payload` and the user computes an update based on their private local data. This user update is `shared_data` and contains, for example, the parameter gradient of the model in the simplest case. `true_user_data` is also returned by `.compute_local_updates`, but of course not forwarded to the server or attacker and only used for (our) analysis."
   ]
  },
  {
   "cell_type": "code",
   "execution_count": 5,
   "id": "b0dbd868",
   "metadata": {},
   "outputs": [
    {
     "name": "stdout",
     "output_type": "stream",
     "text": [
      "Computing user update on user 1 in model mode: eval.\n"
     ]
    }
   ],
   "source": [
    "server_payload = server.distribute_payload()\n",
    "shared_data, true_user_data = user.compute_local_updates(server_payload)"
   ]
  },
  {
   "cell_type": "code",
   "execution_count": 6,
   "id": "49c68628",
   "metadata": {},
   "outputs": [
    {
     "data": {
      "image/png": "[encoded data removed]",
      "text/plain": [
       "<Figure size 600x600 with 4 Axes>"
      ]
     },
     "metadata": {},
     "output_type": "display_data"
    }
   ],
   "source": [
    "user.plot(true_user_data)"
   ]
  },
  {
   "cell_type": "markdown",
   "id": "17255c5a",
   "metadata": {},
   "source": [
    "### Reconstruct user data:"
   ]
  },
  {
   "cell_type": "markdown",
   "id": "798f4f44",
   "metadata": {},
   "source": [
    "Now we launch the attack, reconstructing user data based on only the `server_payload` and the `shared_data`. \n",
    "\n",
    "You can interrupt the computation early to see a partial solution."
   ]
  },
  {
   "cell_type": "code",
   "execution_count": 7,
   "id": "c9a32fd7",
   "metadata": {},
   "outputs": [
    {
     "name": "stdout",
     "output_type": "stream",
     "text": [
      "| It: 1 | Rec. loss: 0.1496 |  Task loss: 2.2948 | T: 0.45s\n",
      "| It: 101 | Rec. loss: 0.0437 |  Task loss: 2.3159 | T: 36.84s\n",
      "| It: 201 | Rec. loss: 0.0418 |  Task loss: 2.2996 | T: 30.64s\n",
      "| It: 301 | Rec. loss: 0.0358 |  Task loss: 2.3211 | T: 30.64s\n",
      "| It: 401 | Rec. loss: 0.0364 |  Task loss: 2.3213 | T: 30.19s\n",
      "| It: 501 | Rec. loss: 0.0343 |  Task loss: 2.3338 | T: 30.56s\n",
      "| It: 601 | Rec. loss: 0.0304 |  Task loss: 2.3525 | T: 30.69s\n",
      "| It: 701 | Rec. loss: 0.0323 |  Task loss: 2.3161 | T: 30.33s\n",
      "| It: 801 | Rec. loss: 0.0306 |  Task loss: 2.3197 | T: 30.40s\n",
      "| It: 901 | Rec. loss: 0.0297 |  Task loss: 2.3739 | T: 30.58s\n",
      "| It: 1001 | Rec. loss: 0.0312 |  Task loss: 2.3454 | T: 30.71s\n",
      "| It: 1101 | Rec. loss: 0.0313 |  Task loss: 2.3650 | T: 30.36s\n",
      "| It: 1201 | Rec. loss: 0.0309 |  Task loss: 2.3157 | T: 30.97s\n",
      "| It: 1301 | Rec. loss: 0.0311 |  Task loss: 2.3499 | T: 30.46s\n",
      "| It: 1401 | Rec. loss: 0.0302 |  Task loss: 2.3921 | T: 30.37s\n",
      "| It: 1501 | Rec. loss: 0.0302 |  Task loss: 2.3555 | T: 30.78s\n",
      "| It: 1601 | Rec. loss: 0.0307 |  Task loss: 2.3754 | T: 30.31s\n",
      "| It: 1701 | Rec. loss: 0.0312 |  Task loss: 2.3422 | T: 30.76s\n",
      "| It: 1801 | Rec. loss: 0.0320 |  Task loss: 2.3537 | T: 30.76s\n",
      "| It: 1901 | Rec. loss: 0.0323 |  Task loss: 2.3410 | T: 30.78s\n",
      "| It: 2001 | Rec. loss: 0.0299 |  Task loss: 2.3304 | T: 30.49s\n",
      "| It: 2101 | Rec. loss: 0.0293 |  Task loss: 2.3553 | T: 30.35s\n",
      "| It: 2201 | Rec. loss: 0.0330 |  Task loss: 2.3172 | T: 30.50s\n",
      "| It: 2301 | Rec. loss: 0.0317 |  Task loss: 2.3171 | T: 30.77s\n",
      "| It: 2401 | Rec. loss: 0.0300 |  Task loss: 2.3490 | T: 30.20s\n",
      "| It: 2501 | Rec. loss: 0.0299 |  Task loss: 2.3489 | T: 30.52s\n",
      "| It: 2601 | Rec. loss: 0.0278 |  Task loss: 2.3394 | T: 30.65s\n",
      "| It: 2701 | Rec. loss: 0.0297 |  Task loss: 2.3480 | T: 30.53s\n",
      "| It: 2801 | Rec. loss: 0.0297 |  Task loss: 2.3503 | T: 30.67s\n",
      "| It: 2901 | Rec. loss: 0.0299 |  Task loss: 2.3434 | T: 30.60s\n",
      "| It: 3001 | Rec. loss: 0.0295 |  Task loss: 2.3508 | T: 30.66s\n",
      "| It: 3101 | Rec. loss: 0.0313 |  Task loss: 2.3429 | T: 30.36s\n",
      "| It: 3201 | Rec. loss: 0.0298 |  Task loss: 2.3405 | T: 30.85s\n",
      "| It: 3301 | Rec. loss: 0.0304 |  Task loss: 2.3738 | T: 30.43s\n",
      "| It: 3401 | Rec. loss: 0.0332 |  Task loss: 2.3460 | T: 30.43s\n",
      "| It: 3501 | Rec. loss: 0.0292 |  Task loss: 2.3578 | T: 30.73s\n",
      "| It: 3601 | Rec. loss: 0.0288 |  Task loss: 2.3553 | T: 30.85s\n",
      "| It: 3701 | Rec. loss: 0.0305 |  Task loss: 2.3568 | T: 30.31s\n",
      "| It: 3801 | Rec. loss: 0.0320 |  Task loss: 2.3323 | T: 30.68s\n",
      "| It: 3901 | Rec. loss: 0.0325 |  Task loss: 2.3265 | T: 30.53s\n",
      "| It: 4001 | Rec. loss: 0.0301 |  Task loss: 2.3394 | T: 30.39s\n",
      "| It: 4101 | Rec. loss: 0.0301 |  Task loss: 2.3192 | T: 30.34s\n",
      "| It: 4201 | Rec. loss: 0.0296 |  Task loss: 2.3441 | T: 30.67s\n",
      "| It: 4301 | Rec. loss: 0.0327 |  Task loss: 2.3759 | T: 30.73s\n",
      "| It: 4401 | Rec. loss: 0.0300 |  Task loss: 2.3579 | T: 30.39s\n",
      "| It: 4501 | Rec. loss: 0.0316 |  Task loss: 2.3458 | T: 30.39s\n",
      "| It: 4601 | Rec. loss: 0.0299 |  Task loss: 2.3556 | T: 30.35s\n",
      "| It: 4701 | Rec. loss: 0.0305 |  Task loss: 2.3578 | T: 30.58s\n",
      "| It: 4801 | Rec. loss: 0.0312 |  Task loss: 2.3359 | T: 30.57s\n",
      "| It: 4901 | Rec. loss: 0.0300 |  Task loss: 2.3470 | T: 16.96s\n",
      "| It: 5001 | Rec. loss: 0.0296 |  Task loss: 2.3459 | T: 10.96s\n",
      "| It: 5101 | Rec. loss: 0.0288 |  Task loss: 2.3306 | T: 11.16s\n",
      "| It: 5201 | Rec. loss: 0.0307 |  Task loss: 2.3463 | T: 11.11s\n",
      "| It: 5301 | Rec. loss: 0.0318 |  Task loss: 2.3262 | T: 11.03s\n",
      "| It: 5401 | Rec. loss: 0.0297 |  Task loss: 2.3435 | T: 11.16s\n",
      "| It: 5501 | Rec. loss: 0.0301 |  Task loss: 2.3488 | T: 10.97s\n",
      "| It: 5601 | Rec. loss: 0.0287 |  Task loss: 2.3669 | T: 10.95s\n",
      "| It: 5701 | Rec. loss: 0.0295 |  Task loss: 2.3503 | T: 10.94s\n",
      "| It: 5801 | Rec. loss: 0.0295 |  Task loss: 2.3730 | T: 10.87s\n",
      "| It: 5901 | Rec. loss: 0.0320 |  Task loss: 2.3353 | T: 11.06s\n",
      "| It: 6001 | Rec. loss: 0.0308 |  Task loss: 2.3414 | T: 10.96s\n",
      "| It: 6101 | Rec. loss: 0.0297 |  Task loss: 2.3553 | T: 10.87s\n",
      "| It: 6201 | Rec. loss: 0.0299 |  Task loss: 2.3340 | T: 11.08s\n",
      "| It: 6301 | Rec. loss: 0.0324 |  Task loss: 2.3557 | T: 10.97s\n",
      "| It: 6401 | Rec. loss: 0.0304 |  Task loss: 2.3208 | T: 10.98s\n",
      "| It: 6501 | Rec. loss: 0.0282 |  Task loss: 2.3539 | T: 10.87s\n",
      "| It: 6601 | Rec. loss: 0.0291 |  Task loss: 2.3309 | T: 10.88s\n",
      "| It: 6701 | Rec. loss: 0.0294 |  Task loss: 2.3099 | T: 10.92s\n",
      "| It: 6801 | Rec. loss: 0.0286 |  Task loss: 2.3424 | T: 10.90s\n",
      "| It: 6901 | Rec. loss: 0.0297 |  Task loss: 2.3441 | T: 10.91s\n",
      "| It: 7001 | Rec. loss: 0.0340 |  Task loss: 2.3411 | T: 10.91s\n",
      "| It: 7101 | Rec. loss: 0.0301 |  Task loss: 2.3501 | T: 10.94s\n",
      "| It: 7201 | Rec. loss: 0.0317 |  Task loss: 2.3429 | T: 10.55s\n",
      "| It: 7301 | Rec. loss: 0.0300 |  Task loss: 2.3377 | T: 10.56s\n",
      "| It: 7401 | Rec. loss: 0.0312 |  Task loss: 2.3391 | T: 10.43s\n",
      "| It: 7501 | Rec. loss: 0.0307 |  Task loss: 2.3476 | T: 10.47s\n",
      "| It: 7601 | Rec. loss: 0.0322 |  Task loss: 2.3557 | T: 10.65s\n",
      "| It: 7701 | Rec. loss: 0.0299 |  Task loss: 2.3707 | T: 10.42s\n",
      "| It: 7801 | Rec. loss: 0.0323 |  Task loss: 2.3560 | T: 10.54s\n",
      "| It: 7901 | Rec. loss: 0.0303 |  Task loss: 2.3484 | T: 10.57s\n",
      "| It: 8001 | Rec. loss: 0.0313 |  Task loss: 2.3645 | T: 10.33s\n",
      "| It: 8101 | Rec. loss: 0.0317 |  Task loss: 2.3485 | T: 10.46s\n",
      "| It: 8201 | Rec. loss: 0.0295 |  Task loss: 2.3595 | T: 10.58s\n",
      "| It: 8301 | Rec. loss: 0.0311 |  Task loss: 2.3684 | T: 10.41s\n",
      "| It: 8401 | Rec. loss: 0.0299 |  Task loss: 2.3177 | T: 10.32s\n",
      "| It: 8501 | Rec. loss: 0.0316 |  Task loss: 2.3286 | T: 10.54s\n",
      "| It: 8601 | Rec. loss: 0.0289 |  Task loss: 2.3296 | T: 10.58s\n",
      "| It: 8701 | Rec. loss: 0.0293 |  Task loss: 2.3544 | T: 10.56s\n",
      "| It: 8801 | Rec. loss: 0.0319 |  Task loss: 2.3707 | T: 10.63s\n",
      "| It: 8901 | Rec. loss: 0.0298 |  Task loss: 2.3422 | T: 10.64s\n",
      "| It: 9001 | Rec. loss: 0.0270 |  Task loss: 2.3478 | T: 10.59s\n",
      "| It: 9101 | Rec. loss: 0.0236 |  Task loss: 2.3544 | T: 10.65s\n",
      "| It: 9201 | Rec. loss: 0.0231 |  Task loss: 2.3598 | T: 10.39s\n",
      "| It: 9301 | Rec. loss: 0.0229 |  Task loss: 2.3601 | T: 10.49s\n",
      "| It: 9401 | Rec. loss: 0.0234 |  Task loss: 2.3666 | T: 10.49s\n",
      "| It: 9501 | Rec. loss: 0.0219 |  Task loss: 2.3407 | T: 10.35s\n",
      "| It: 9601 | Rec. loss: 0.0212 |  Task loss: 2.3568 | T: 10.63s\n",
      "| It: 9701 | Rec. loss: 0.0212 |  Task loss: 2.3614 | T: 10.48s\n",
      "| It: 9801 | Rec. loss: 0.0215 |  Task loss: 2.3436 | T: 10.63s\n",
      "| It: 9901 | Rec. loss: 0.0223 |  Task loss: 2.3443 | T: 10.51s\n",
      "| It: 10001 | Rec. loss: 0.0230 |  Task loss: 2.3535 | T: 10.47s\n",
      "| It: 10101 | Rec. loss: 0.0228 |  Task loss: 2.3483 | T: 10.50s\n",
      "| It: 10201 | Rec. loss: 0.0213 |  Task loss: 2.3522 | T: 10.42s\n",
      "| It: 10301 | Rec. loss: 0.0229 |  Task loss: 2.3510 | T: 10.58s\n",
      "| It: 10401 | Rec. loss: 0.0227 |  Task loss: 2.3548 | T: 10.48s\n",
      "| It: 10501 | Rec. loss: 0.0223 |  Task loss: 2.3585 | T: 10.25s\n",
      "| It: 10601 | Rec. loss: 0.0224 |  Task loss: 2.3658 | T: 10.51s\n",
      "| It: 10701 | Rec. loss: 0.0242 |  Task loss: 2.3562 | T: 10.54s\n",
      "| It: 10801 | Rec. loss: 0.0236 |  Task loss: 2.3462 | T: 10.35s\n",
      "| It: 10901 | Rec. loss: 0.0232 |  Task loss: 2.3457 | T: 10.65s\n",
      "| It: 11001 | Rec. loss: 0.0224 |  Task loss: 2.3533 | T: 10.60s\n",
      "| It: 11101 | Rec. loss: 0.0231 |  Task loss: 2.3501 | T: 10.47s\n",
      "| It: 11201 | Rec. loss: 0.0226 |  Task loss: 2.3512 | T: 10.47s\n",
      "| It: 11301 | Rec. loss: 0.0239 |  Task loss: 2.3486 | T: 10.52s\n",
      "| It: 11401 | Rec. loss: 0.0208 |  Task loss: 2.3521 | T: 10.65s\n",
      "| It: 11501 | Rec. loss: 0.0230 |  Task loss: 2.3713 | T: 10.57s\n",
      "| It: 11601 | Rec. loss: 0.0215 |  Task loss: 2.3627 | T: 10.50s\n",
      "| It: 11701 | Rec. loss: 0.0207 |  Task loss: 2.3611 | T: 10.73s\n",
      "| It: 11801 | Rec. loss: 0.0227 |  Task loss: 2.3388 | T: 10.55s\n",
      "| It: 11901 | Rec. loss: 0.0229 |  Task loss: 2.3624 | T: 10.51s\n",
      "| It: 12001 | Rec. loss: 0.0226 |  Task loss: 2.3616 | T: 10.51s\n",
      "| It: 12101 | Rec. loss: 0.0206 |  Task loss: 2.3765 | T: 10.47s\n",
      "| It: 12201 | Rec. loss: 0.0221 |  Task loss: 2.3581 | T: 10.41s\n",
      "| It: 12301 | Rec. loss: 0.0221 |  Task loss: 2.3613 | T: 10.44s\n",
      "| It: 12401 | Rec. loss: 0.0231 |  Task loss: 2.3446 | T: 10.65s\n",
      "| It: 12501 | Rec. loss: 0.0227 |  Task loss: 2.3423 | T: 10.50s\n",
      "| It: 12601 | Rec. loss: 0.0226 |  Task loss: 2.3479 | T: 10.51s\n",
      "| It: 12701 | Rec. loss: 0.0228 |  Task loss: 2.3657 | T: 10.47s\n"
     ]
    },
    {
     "name": "stdout",
     "output_type": "stream",
     "text": [
      "| It: 12801 | Rec. loss: 0.0229 |  Task loss: 2.3547 | T: 10.49s\n",
      "| It: 12901 | Rec. loss: 0.0234 |  Task loss: 2.3516 | T: 10.50s\n",
      "| It: 13001 | Rec. loss: 0.0244 |  Task loss: 2.3588 | T: 10.59s\n",
      "| It: 13101 | Rec. loss: 0.0237 |  Task loss: 2.3545 | T: 10.56s\n",
      "| It: 13201 | Rec. loss: 0.0226 |  Task loss: 2.3618 | T: 10.51s\n",
      "| It: 13301 | Rec. loss: 0.0231 |  Task loss: 2.3678 | T: 10.59s\n",
      "| It: 13401 | Rec. loss: 0.0225 |  Task loss: 2.3618 | T: 10.47s\n",
      "| It: 13501 | Rec. loss: 0.0249 |  Task loss: 2.3544 | T: 10.60s\n",
      "| It: 13601 | Rec. loss: 0.0242 |  Task loss: 2.3577 | T: 10.51s\n",
      "| It: 13701 | Rec. loss: 0.0237 |  Task loss: 2.3454 | T: 10.65s\n",
      "| It: 13801 | Rec. loss: 0.0224 |  Task loss: 2.3471 | T: 10.40s\n",
      "| It: 13901 | Rec. loss: 0.0228 |  Task loss: 2.3639 | T: 10.10s\n",
      "| It: 14001 | Rec. loss: 0.0229 |  Task loss: 2.3645 | T: 10.71s\n",
      "| It: 14101 | Rec. loss: 0.0237 |  Task loss: 2.3553 | T: 10.71s\n",
      "| It: 14201 | Rec. loss: 0.0216 |  Task loss: 2.3696 | T: 10.48s\n",
      "| It: 14301 | Rec. loss: 0.0246 |  Task loss: 2.3732 | T: 10.63s\n",
      "| It: 14401 | Rec. loss: 0.0230 |  Task loss: 2.3577 | T: 10.48s\n",
      "| It: 14501 | Rec. loss: 0.0234 |  Task loss: 2.3731 | T: 10.49s\n",
      "| It: 14601 | Rec. loss: 0.0233 |  Task loss: 2.3559 | T: 10.53s\n",
      "| It: 14701 | Rec. loss: 0.0249 |  Task loss: 2.3454 | T: 10.46s\n",
      "| It: 14801 | Rec. loss: 0.0236 |  Task loss: 2.3682 | T: 10.51s\n",
      "| It: 14901 | Rec. loss: 0.0269 |  Task loss: 2.3655 | T: 10.46s\n",
      "| It: 15001 | Rec. loss: 0.0240 |  Task loss: 2.3744 | T: 10.38s\n",
      "| It: 15101 | Rec. loss: 0.0234 |  Task loss: 2.3740 | T: 10.46s\n",
      "| It: 15201 | Rec. loss: 0.0238 |  Task loss: 2.3728 | T: 10.47s\n",
      "| It: 15301 | Rec. loss: 0.0237 |  Task loss: 2.3716 | T: 10.53s\n",
      "| It: 15401 | Rec. loss: 0.0239 |  Task loss: 2.3718 | T: 10.47s\n",
      "| It: 15501 | Rec. loss: 0.0248 |  Task loss: 2.3673 | T: 10.46s\n",
      "| It: 15601 | Rec. loss: 0.0247 |  Task loss: 2.3683 | T: 10.54s\n",
      "| It: 15701 | Rec. loss: 0.0235 |  Task loss: 2.3675 | T: 10.21s\n",
      "| It: 15801 | Rec. loss: 0.0226 |  Task loss: 2.3610 | T: 10.50s\n",
      "| It: 15901 | Rec. loss: 0.0224 |  Task loss: 2.3597 | T: 10.69s\n",
      "| It: 16001 | Rec. loss: 0.0230 |  Task loss: 2.3623 | T: 10.65s\n",
      "| It: 16101 | Rec. loss: 0.0225 |  Task loss: 2.3569 | T: 10.68s\n",
      "| It: 16201 | Rec. loss: 0.0229 |  Task loss: 2.3623 | T: 10.56s\n",
      "| It: 16301 | Rec. loss: 0.0243 |  Task loss: 2.3657 | T: 10.55s\n",
      "| It: 16401 | Rec. loss: 0.0234 |  Task loss: 2.3732 | T: 10.58s\n",
      "| It: 16501 | Rec. loss: 0.0233 |  Task loss: 2.3734 | T: 10.35s\n",
      "| It: 16601 | Rec. loss: 0.0225 |  Task loss: 2.3789 | T: 10.60s\n",
      "| It: 16701 | Rec. loss: 0.0229 |  Task loss: 2.3847 | T: 10.47s\n",
      "| It: 16801 | Rec. loss: 0.0234 |  Task loss: 2.3884 | T: 10.51s\n",
      "| It: 16901 | Rec. loss: 0.0238 |  Task loss: 2.3848 | T: 10.66s\n",
      "| It: 17001 | Rec. loss: 0.0234 |  Task loss: 2.3710 | T: 10.53s\n",
      "| It: 17101 | Rec. loss: 0.0227 |  Task loss: 2.3641 | T: 10.54s\n",
      "| It: 17201 | Rec. loss: 0.0227 |  Task loss: 2.3701 | T: 10.52s\n",
      "| It: 17301 | Rec. loss: 0.0228 |  Task loss: 2.3735 | T: 10.49s\n",
      "| It: 17401 | Rec. loss: 0.0233 |  Task loss: 2.3676 | T: 10.44s\n",
      "| It: 17501 | Rec. loss: 0.0234 |  Task loss: 2.3728 | T: 10.39s\n",
      "| It: 17601 | Rec. loss: 0.0238 |  Task loss: 2.3767 | T: 10.40s\n",
      "| It: 17701 | Rec. loss: 0.0236 |  Task loss: 2.3776 | T: 10.61s\n",
      "| It: 17801 | Rec. loss: 0.0233 |  Task loss: 2.3785 | T: 10.44s\n",
      "| It: 17901 | Rec. loss: 0.0228 |  Task loss: 2.3766 | T: 10.67s\n",
      "| It: 18001 | Rec. loss: 0.0230 |  Task loss: 2.3721 | T: 10.45s\n",
      "| It: 18101 | Rec. loss: 0.0232 |  Task loss: 2.3709 | T: 10.53s\n",
      "| It: 18201 | Rec. loss: 0.0236 |  Task loss: 2.3779 | T: 10.48s\n",
      "| It: 18301 | Rec. loss: 0.0226 |  Task loss: 2.3812 | T: 10.51s\n",
      "| It: 18401 | Rec. loss: 0.0230 |  Task loss: 2.3774 | T: 10.60s\n",
      "| It: 18501 | Rec. loss: 0.0229 |  Task loss: 2.3705 | T: 10.39s\n",
      "| It: 18601 | Rec. loss: 0.0229 |  Task loss: 2.3754 | T: 10.60s\n",
      "| It: 18701 | Rec. loss: 0.0228 |  Task loss: 2.3719 | T: 10.65s\n",
      "| It: 18801 | Rec. loss: 0.0226 |  Task loss: 2.3684 | T: 10.68s\n",
      "| It: 18901 | Rec. loss: 0.0238 |  Task loss: 2.3684 | T: 10.45s\n",
      "| It: 19001 | Rec. loss: 0.0236 |  Task loss: 2.3695 | T: 10.47s\n",
      "| It: 19101 | Rec. loss: 0.0241 |  Task loss: 2.3645 | T: 10.53s\n",
      "| It: 19201 | Rec. loss: 0.0247 |  Task loss: 2.3681 | T: 10.69s\n",
      "| It: 19301 | Rec. loss: 0.0237 |  Task loss: 2.3701 | T: 10.60s\n",
      "| It: 19401 | Rec. loss: 0.0230 |  Task loss: 2.3741 | T: 10.55s\n",
      "| It: 19501 | Rec. loss: 0.0230 |  Task loss: 2.3742 | T: 10.52s\n",
      "| It: 19601 | Rec. loss: 0.0233 |  Task loss: 2.3676 | T: 10.54s\n",
      "| It: 19701 | Rec. loss: 0.0239 |  Task loss: 2.3609 | T: 10.50s\n",
      "| It: 19801 | Rec. loss: 0.0237 |  Task loss: 2.3624 | T: 10.57s\n",
      "| It: 19901 | Rec. loss: 0.0239 |  Task loss: 2.3597 | T: 10.38s\n",
      "| It: 20001 | Rec. loss: 0.0244 |  Task loss: 2.3572 | T: 10.55s\n",
      "| It: 20101 | Rec. loss: 0.0240 |  Task loss: 2.3587 | T: 10.60s\n",
      "| It: 20201 | Rec. loss: 0.0240 |  Task loss: 2.3587 | T: 10.41s\n",
      "| It: 20301 | Rec. loss: 0.0236 |  Task loss: 2.3569 | T: 10.52s\n",
      "| It: 20401 | Rec. loss: 0.0229 |  Task loss: 2.3641 | T: 10.49s\n",
      "| It: 20501 | Rec. loss: 0.0225 |  Task loss: 2.3671 | T: 10.53s\n",
      "| It: 20601 | Rec. loss: 0.0217 |  Task loss: 2.3706 | T: 10.58s\n",
      "| It: 20701 | Rec. loss: 0.0217 |  Task loss: 2.3653 | T: 10.51s\n",
      "| It: 20801 | Rec. loss: 0.0217 |  Task loss: 2.3678 | T: 10.39s\n",
      "| It: 20901 | Rec. loss: 0.0206 |  Task loss: 2.3704 | T: 10.46s\n",
      "| It: 21001 | Rec. loss: 0.0198 |  Task loss: 2.3657 | T: 10.65s\n",
      "| It: 21101 | Rec. loss: 0.0200 |  Task loss: 2.3634 | T: 10.53s\n",
      "| It: 21201 | Rec. loss: 0.0200 |  Task loss: 2.3631 | T: 10.56s\n",
      "| It: 21301 | Rec. loss: 0.0205 |  Task loss: 2.3627 | T: 10.65s\n",
      "| It: 21401 | Rec. loss: 0.0211 |  Task loss: 2.3619 | T: 10.49s\n",
      "| It: 21501 | Rec. loss: 0.0215 |  Task loss: 2.3622 | T: 10.50s\n",
      "| It: 21601 | Rec. loss: 0.0212 |  Task loss: 2.3608 | T: 10.40s\n",
      "| It: 21701 | Rec. loss: 0.0210 |  Task loss: 2.3603 | T: 10.33s\n",
      "| It: 21801 | Rec. loss: 0.0206 |  Task loss: 2.3599 | T: 10.65s\n",
      "| It: 21901 | Rec. loss: 0.0210 |  Task loss: 2.3595 | T: 10.52s\n",
      "| It: 22001 | Rec. loss: 0.0208 |  Task loss: 2.3589 | T: 10.56s\n",
      "| It: 22101 | Rec. loss: 0.0211 |  Task loss: 2.3586 | T: 10.51s\n",
      "| It: 22201 | Rec. loss: 0.0210 |  Task loss: 2.3583 | T: 10.49s\n",
      "| It: 22301 | Rec. loss: 0.0210 |  Task loss: 2.3572 | T: 10.43s\n",
      "| It: 22401 | Rec. loss: 0.0209 |  Task loss: 2.3563 | T: 10.61s\n",
      "| It: 22501 | Rec. loss: 0.0210 |  Task loss: 2.3565 | T: 10.53s\n",
      "| It: 22601 | Rec. loss: 0.0209 |  Task loss: 2.3569 | T: 10.52s\n",
      "| It: 22701 | Rec. loss: 0.0208 |  Task loss: 2.3587 | T: 10.51s\n",
      "| It: 22801 | Rec. loss: 0.0209 |  Task loss: 2.3581 | T: 10.63s\n",
      "| It: 22901 | Rec. loss: 0.0212 |  Task loss: 2.3585 | T: 10.59s\n",
      "| It: 23001 | Rec. loss: 0.0210 |  Task loss: 2.3598 | T: 10.58s\n",
      "| It: 23101 | Rec. loss: 0.0211 |  Task loss: 2.3595 | T: 10.54s\n",
      "| It: 23201 | Rec. loss: 0.0209 |  Task loss: 2.3595 | T: 10.38s\n",
      "| It: 23301 | Rec. loss: 0.0210 |  Task loss: 2.3579 | T: 10.44s\n",
      "| It: 23401 | Rec. loss: 0.0210 |  Task loss: 2.3584 | T: 10.63s\n",
      "| It: 23501 | Rec. loss: 0.0209 |  Task loss: 2.3596 | T: 10.70s\n",
      "| It: 23601 | Rec. loss: 0.0208 |  Task loss: 2.3590 | T: 10.59s\n",
      "| It: 23701 | Rec. loss: 0.0210 |  Task loss: 2.3582 | T: 10.71s\n",
      "| It: 23801 | Rec. loss: 0.0212 |  Task loss: 2.3578 | T: 10.48s\n",
      "| It: 23901 | Rec. loss: 0.0213 |  Task loss: 2.3576 | T: 10.58s\n",
      "| It: 24000 | Rec. loss: 0.0211 |  Task loss: 2.3558 | T: 10.33s\n",
      "Optimal candidate solution with rec. loss 0.0190 selected.\n"
     ]
    }
   ],
   "source": [
    "reconstructed_user_data, stats = attacker.reconstruct([server_payload], [shared_data], {}, dryrun=cfg.dryrun)"
   ]
  },
  {
   "cell_type": "markdown",
   "id": "d746e854",
   "metadata": {},
   "source": [
    "Next we'll evaluate metrics, comparing the `reconstructed_user_data` to the `true_user_data`."
   ]
  },
  {
   "cell_type": "code",
   "execution_count": 8,
   "id": "31f2685a",
   "metadata": {},
   "outputs": [
    {
     "name": "stdout",
     "output_type": "stream",
     "text": [
      "Starting evaluations for attack effectiveness report...\n",
      "Files already downloaded and verified\n",
      "METRICS: | MSE: 0.0134 | PSNR: 18.93 | FMSE: 9.2470e-03 | LPIPS: 0.06|\n",
      " R-PSNR: 18.93 | IIP-pixel: 100.00% | SSIM: 0.7117 | max R-PSNR: 20.86 | max SSIM: 0.7374 | Label Acc: 100.00%\n"
     ]
    }
   ],
   "source": [
    "metrics = breaching.analysis.report(reconstructed_user_data, true_user_data, [server_payload], \n",
    "                                    server.model, order_batch=True, compute_full_iip=False, \n",
    "                                    cfg_case=cfg.case, max_length=max_length, setup=setup)"
   ]
  },
  {
   "cell_type": "markdown",
   "id": "9caa5d02",
   "metadata": {},
   "source": [
    "And finally, we also plot the reconstructed data:"
   ]
  },
  {
   "cell_type": "code",
   "execution_count": 9,
   "id": "631f4a84",
   "metadata": {},
   "outputs": [
    {
     "data": {
      "image/png": "[encoded data removed]",
      "text/plain": [
       "<Figure size 600x600 with 4 Axes>"
      ]
     },
     "metadata": {},
     "output_type": "display_data"
    }
   ],
   "source": [
    "user.plot(reconstructed_user_data)"
   ]
  },
  {
   "cell_type": "markdown",
   "id": "50889063",
   "metadata": {},
   "source": [
    "### Notes:\n",
    "* If labels are unknown, then a robust label recovery algorithm has to be used that does not count label repetitions due to shifts after local updates."
   ]
  }
 ],
 "metadata": {
  "kernelspec": {
   "display_name": "Python 3 (ipykernel)",
   "language": "python",
   "name": "python3"
  },
  "language_info": {
   "codemirror_mode": {
    "name": "ipython",
    "version": 3
   },
   "file_extension": ".py",
   "mimetype": "text/x-python",
   "name": "python",
   "nbconvert_exporter": "python",
   "pygments_lexer": "ipython3",
   "version": "3.9.16"
  }
 },
 "nbformat": 4,
 "nbformat_minor": 5
}
