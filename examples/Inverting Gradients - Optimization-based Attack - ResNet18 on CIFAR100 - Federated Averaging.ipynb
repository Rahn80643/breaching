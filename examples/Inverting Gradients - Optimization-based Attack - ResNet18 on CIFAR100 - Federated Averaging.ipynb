{
 "cells": [
  {
   "cell_type": "markdown",
   "id": "3ebef44a",
   "metadata": {},
   "source": [
    "# Inverting Gradients - How easy is it to break privacy in federated learning?"
   ]
  },
  {
   "cell_type": "markdown",
   "id": "a756fc5f",
   "metadata": {},
   "source": [
    "This notebook shows an example for a **small-batch image gradient inversion** as described in \"Inverting Gradients - How easy is it to break privacy in federated learning?\". The setting is a trained ResNet-18 and the federated learning algorithm is **fedAVG**.\n",
    "\n",
    "Paper URL: https://proceedings.neurips.cc/paper/2020/hash/c4ede56bbd98819ae6112b20ac6bf145-Abstract.html"
   ]
  },
  {
   "cell_type": "markdown",
   "id": "6366c2f3",
   "metadata": {},
   "source": [
    "This notebook can replicate the experiments in Fig.5 and Tab. 2 of this paper."
   ]
  },
  {
   "cell_type": "markdown",
   "id": "b31823a2",
   "metadata": {},
   "source": [
    "#### Abstract\n",
    "The idea of federated learning is to collaboratively train a neural network on a server. Each user receives the current weights of the network and in turns sends parameter updates (gradients) based on local data. This protocol has been designed not only to train neural networks data-efficiently, but also to provide privacy benefits for users, as their input data remains on device and only parameter gradients are shared. But how secure is sharing parameter gradients? Previous attacks have provided a false sense of security, by succeeding only in contrived settings - even for a single image. However, by exploiting a magnitude-invariant loss along with optimization strategies based on adversarial attacks, we show that is is actually possible to faithfully reconstruct images at high resolution from the knowledge of their parameter gradients, and demonstrate that such a break of privacy is possible even for trained deep networks. We analyze the effects of architecture as well as parameters on the difficulty of reconstructing an input image and prove that any input to a fully connected layer can be reconstructed analytically independent of the remaining architecture. Finally we discuss settings encountered in practice and show that even averaging gradients over several iterations or several images does not protect the user's privacy in federated learning applications."
   ]
  },
  {
   "cell_type": "markdown",
   "id": "28c7223c",
   "metadata": {},
   "source": [
    "### Startup"
   ]
  },
  {
   "cell_type": "code",
   "execution_count": 1,
   "id": "b850eabf",
   "metadata": {},
   "outputs": [],
   "source": [
    "try:\n",
    "    import breaching\n",
    "except ModuleNotFoundError:\n",
    "    # You only really need this safety net if you want to run these notebooks directly in the examples directory\n",
    "    # Don't worry about this if you installed the package or moved the notebook to the main directory.\n",
    "    import os; os.chdir(\"..\")\n",
    "    import breaching\n",
    "    \n",
    "    \n",
    "import torch\n",
    "%load_ext autoreload\n",
    "%autoreload 2\n",
    "\n",
    "# Redirects logs directly into the jupyter notebook\n",
    "import logging, sys\n",
    "logging.basicConfig(level=logging.INFO, handlers=[logging.StreamHandler(sys.stdout)], format='%(message)s')\n",
    "logger = logging.getLogger()"
   ]
  },
  {
   "cell_type": "markdown",
   "id": "88d5e214",
   "metadata": {},
   "source": [
    "### Initialize cfg object and system setup:"
   ]
  },
  {
   "cell_type": "markdown",
   "id": "56bd663b",
   "metadata": {},
   "source": [
    "This will load the full configuration object. This includes the configuration for the use case and threat model as `cfg.case` and the hyperparameters and implementation of the attack as `cfg.attack`. All parameters can be modified below, or overriden with `overrides=` as if they were cmd-line arguments."
   ]
  },
  {
   "cell_type": "code",
   "execution_count": 2,
   "id": "a7dc3a48",
   "metadata": {},
   "outputs": [
    {
     "name": "stdout",
     "output_type": "stream",
     "text": [
      "Investigating use case fedavg_small_scale with server type honest_but_curious.\n"
     ]
    },
    {
     "data": {
      "text/plain": [
       "{'device': device(type='cuda', index=0), 'dtype': torch.float32}"
      ]
     },
     "execution_count": 2,
     "metadata": {},
     "output_type": "execute_result"
    }
   ],
   "source": [
    "cfg = breaching.get_config(overrides=[\"case=4_fedavg_small_scale\", \"case/data=CIFAR100\"])\n",
    "          \n",
    "device = torch.device(f'cuda:0') if torch.cuda.is_available() else torch.device('cpu')\n",
    "torch.backends.cudnn.benchmark = cfg.case.impl.benchmark\n",
    "setup = dict(device=device, dtype=getattr(torch, cfg.case.impl.dtype))\n",
    "setup"
   ]
  },
  {
   "cell_type": "markdown",
   "id": "203c5fb1",
   "metadata": {},
   "source": [
    "### Modify config options here"
   ]
  },
  {
   "cell_type": "markdown",
   "id": "6e0764ef",
   "metadata": {},
   "source": [
    "You can use `.attribute` access to modify any of these configurations for the attack, or the case:"
   ]
  },
  {
   "cell_type": "code",
   "execution_count": 3,
   "id": "ac118ea0",
   "metadata": {},
   "outputs": [],
   "source": [
    "cfg.case.data.partition=\"random\"\n",
    "cfg.case.user.user_idx = 1\n",
    "cfg.case.model='resnet18'\n",
    "\n",
    "cfg.case.user.provide_labels = True\n",
    "\n",
    "# These settings govern the total amount of user data and how it is used over multiple local update steps:\n",
    "cfg.case.user.num_data_points = 4\n",
    "cfg.case.user.num_local_updates = 4\n",
    "cfg.case.user.num_data_per_local_update_step = 2\n",
    "\n",
    "\n",
    "# Total variation regularization needs to be smaller on MNIST:\n",
    "cfg.attack.regularization.total_variation.scale = 1e-3\n",
    "\n",
    "max_length=100"
   ]
  },
  {
   "cell_type": "markdown",
   "id": "76f64389",
   "metadata": {},
   "source": [
    "### Instantiate all parties"
   ]
  },
  {
   "cell_type": "markdown",
   "id": "ce37e668",
   "metadata": {},
   "source": [
    "The following lines generate \"server, \"user\" and \"attacker\" objects and print an overview of their configurations."
   ]
  },
  {
   "cell_type": "code",
   "execution_count": 4,
   "id": "d3abd955",
   "metadata": {},
   "outputs": [
    {
     "name": "stdout",
     "output_type": "stream",
     "text": [
      "Files already downloaded and verified\n",
      "Model architecture resnet18 loaded with 11,220,132 parameters and 9,620 buffers.\n",
      "Overall this is a data ratio of     913:1 for target shape [4, 3, 32, 32] given that num_queries=1.\n",
      "User (of type UserMultiStep) with settings:\n",
      "    Number of data points: 4\n",
      "\n",
      "    Threat model:\n",
      "    User provides labels: True\n",
      "    User provides buffers: False\n",
      "    User provides number of data points: True\n",
      "\n",
      "    Data:\n",
      "    Dataset: CIFAR100\n",
      "    user: 1\n",
      "    \n",
      "        \n",
      "    Local FL Setup:\n",
      "        Number of local update steps: 4\n",
      "        Data per local update step: 2\n",
      "        Local learning rate: 0.001\n",
      "\n",
      "        Threat model:\n",
      "        Share these hyperparams to server: True\n",
      "\n",
      "        \n",
      "Server (of type HonestServer) with settings:\n",
      "    Threat model: Honest-but-curious\n",
      "    Number of planned queries: 1\n",
      "    Has external/public data: False\n",
      "\n",
      "    Model:\n",
      "        model specification: resnet18\n",
      "        model state: default\n",
      "        public buffers: True\n",
      "\n",
      "    Secrets: {}\n",
      "    \n",
      "Attacker (of type OptimizationBasedAttacker) with settings:\n",
      "    Hyperparameter Template: invertinggradients\n",
      "\n",
      "    Objective: Cosine Similarity with scale=1.0 and task reg=0.0\n",
      "    Regularizers: Total Variation, scale=0.001. p=1 q=1. \n",
      "    Augmentations: \n",
      "\n",
      "    Optimization Setup:\n",
      "        optimizer: adam\n",
      "        signed: hard\n",
      "        step_size: 0.1\n",
      "        boxed: True\n",
      "        max_iterations: 24000\n",
      "        step_size_decay: step-lr\n",
      "        langevin_noise: 0.0\n",
      "        warmup: 0\n",
      "        grad_clip: None\n",
      "        callback: 100\n",
      "        \n"
     ]
    }
   ],
   "source": [
    "user, server, model, loss_fn = breaching.cases.construct_case(cfg.case, setup)\n",
    "attacker = breaching.attacks.prepare_attack(server.model, server.loss, cfg.attack, setup)\n",
    "breaching.utils.overview(server, user, attacker)"
   ]
  },
  {
   "cell_type": "markdown",
   "id": "548c0ad6",
   "metadata": {},
   "source": [
    "### Simulate an attacked FL protocol"
   ]
  },
  {
   "cell_type": "markdown",
   "id": "2058bcc2",
   "metadata": {},
   "source": [
    "This exchange is a simulation of a single query in a federated learning protocol. The server sends out a `server_payload` and the user computes an update based on their private local data. This user update is `shared_data` and contains, for example, the parameter gradient of the model in the simplest case. `true_user_data` is also returned by `.compute_local_updates`, but of course not forwarded to the server or attacker and only used for (our) analysis."
   ]
  },
  {
   "cell_type": "code",
   "execution_count": 5,
   "id": "b0dbd868",
   "metadata": {},
   "outputs": [
    {
     "name": "stdout",
     "output_type": "stream",
     "text": [
      "Computing user update on user 1 in model mode: eval.\n"
     ]
    }
   ],
   "source": [
    "server_payload = server.distribute_payload()\n",
    "shared_data, true_user_data = user.compute_local_updates(server_payload)"
   ]
  },
  {
   "cell_type": "code",
   "execution_count": 6,
   "id": "49c68628",
   "metadata": {
    "scrolled": true
   },
   "outputs": [
    {
     "data": {
      "image/png": "[encoded data removed]",
      "text/plain": [
       "<Figure size 600x600 with 4 Axes>"
      ]
     },
     "metadata": {},
     "output_type": "display_data"
    }
   ],
   "source": [
    "user.plot(true_user_data)"
   ]
  },
  {
   "cell_type": "markdown",
   "id": "17255c5a",
   "metadata": {},
   "source": [
    "### Reconstruct user data:"
   ]
  },
  {
   "cell_type": "markdown",
   "id": "798f4f44",
   "metadata": {},
   "source": [
    "Now we launch the attack, reconstructing user data based on only the `server_payload` and the `shared_data`. \n",
    "\n",
    "You can interrupt the computation early to see a partial solution."
   ]
  },
  {
   "cell_type": "code",
   "execution_count": 7,
   "id": "c9a32fd7",
   "metadata": {},
   "outputs": [
    {
     "name": "stdout",
     "output_type": "stream",
     "text": [
      "| It: 1 | Rec. loss: 0.1370 |  Task loss: 3.8064 | T: 0.51s\n",
      "| It: 101 | Rec. loss: 0.0339 |  Task loss: 3.6798 | T: 42.36s\n",
      "| It: 201 | Rec. loss: 0.0244 |  Task loss: 3.6860 | T: 36.94s\n",
      "| It: 301 | Rec. loss: 0.0206 |  Task loss: 3.6682 | T: 36.72s\n",
      "| It: 401 | Rec. loss: 0.0206 |  Task loss: 3.6893 | T: 36.41s\n",
      "| It: 501 | Rec. loss: 0.0216 |  Task loss: 3.6719 | T: 36.87s\n",
      "| It: 601 | Rec. loss: 0.0197 |  Task loss: 3.6684 | T: 36.47s\n",
      "| It: 701 | Rec. loss: 0.0194 |  Task loss: 3.6898 | T: 36.37s\n",
      "| It: 801 | Rec. loss: 0.0185 |  Task loss: 3.6707 | T: 36.69s\n",
      "| It: 901 | Rec. loss: 0.0191 |  Task loss: 3.6834 | T: 36.57s\n",
      "| It: 1001 | Rec. loss: 0.0200 |  Task loss: 3.6688 | T: 36.65s\n",
      "| It: 1101 | Rec. loss: 0.0190 |  Task loss: 3.6745 | T: 36.54s\n",
      "| It: 1201 | Rec. loss: 0.0192 |  Task loss: 3.6653 | T: 36.70s\n",
      "| It: 1301 | Rec. loss: 0.0183 |  Task loss: 3.6813 | T: 36.47s\n",
      "| It: 1401 | Rec. loss: 0.0177 |  Task loss: 3.6864 | T: 36.68s\n",
      "| It: 1501 | Rec. loss: 0.0178 |  Task loss: 3.6692 | T: 36.60s\n",
      "| It: 1601 | Rec. loss: 0.0182 |  Task loss: 3.6861 | T: 36.40s\n",
      "| It: 1701 | Rec. loss: 0.0224 |  Task loss: 3.6790 | T: 36.63s\n",
      "| It: 1801 | Rec. loss: 0.0161 |  Task loss: 3.6478 | T: 36.48s\n",
      "| It: 1901 | Rec. loss: 0.0207 |  Task loss: 3.6769 | T: 36.50s\n",
      "| It: 2001 | Rec. loss: 0.0171 |  Task loss: 3.6917 | T: 36.76s\n",
      "| It: 2101 | Rec. loss: 0.0184 |  Task loss: 3.6998 | T: 36.53s\n",
      "| It: 2201 | Rec. loss: 0.0177 |  Task loss: 3.6703 | T: 36.73s\n",
      "| It: 2301 | Rec. loss: 0.0191 |  Task loss: 3.6717 | T: 36.59s\n",
      "| It: 2401 | Rec. loss: 0.0195 |  Task loss: 3.6960 | T: 36.41s\n",
      "| It: 2501 | Rec. loss: 0.0192 |  Task loss: 3.6799 | T: 36.63s\n",
      "| It: 2601 | Rec. loss: 0.0204 |  Task loss: 3.6884 | T: 36.65s\n",
      "| It: 2701 | Rec. loss: 0.0193 |  Task loss: 3.6697 | T: 36.76s\n",
      "| It: 2801 | Rec. loss: 0.0190 |  Task loss: 3.6816 | T: 36.50s\n",
      "| It: 2901 | Rec. loss: 0.0208 |  Task loss: 3.7143 | T: 36.57s\n",
      "| It: 3001 | Rec. loss: 0.0205 |  Task loss: 3.6710 | T: 36.59s\n",
      "| It: 3101 | Rec. loss: 0.0207 |  Task loss: 3.6643 | T: 36.60s\n",
      "| It: 3201 | Rec. loss: 0.0207 |  Task loss: 3.6855 | T: 36.52s\n",
      "| It: 3301 | Rec. loss: 0.0204 |  Task loss: 3.6537 | T: 36.58s\n",
      "| It: 3401 | Rec. loss: 0.0197 |  Task loss: 3.6657 | T: 36.76s\n",
      "| It: 3501 | Rec. loss: 0.0205 |  Task loss: 3.6878 | T: 36.65s\n",
      "| It: 3601 | Rec. loss: 0.0202 |  Task loss: 3.6727 | T: 36.43s\n",
      "| It: 3701 | Rec. loss: 0.0186 |  Task loss: 3.6890 | T: 36.49s\n",
      "| It: 3801 | Rec. loss: 0.0195 |  Task loss: 3.6895 | T: 36.55s\n",
      "| It: 3901 | Rec. loss: 0.0190 |  Task loss: 3.6952 | T: 36.55s\n",
      "| It: 4001 | Rec. loss: 0.0190 |  Task loss: 3.6724 | T: 36.45s\n",
      "| It: 4101 | Rec. loss: 0.0206 |  Task loss: 3.6760 | T: 36.71s\n",
      "| It: 4201 | Rec. loss: 0.0188 |  Task loss: 3.7009 | T: 36.69s\n",
      "| It: 4301 | Rec. loss: 0.0194 |  Task loss: 3.6667 | T: 36.65s\n",
      "| It: 4401 | Rec. loss: 0.0182 |  Task loss: 3.6883 | T: 36.75s\n",
      "| It: 4501 | Rec. loss: 0.0181 |  Task loss: 3.6622 | T: 36.68s\n",
      "| It: 4601 | Rec. loss: 0.0194 |  Task loss: 3.6809 | T: 36.46s\n",
      "| It: 4701 | Rec. loss: 0.0198 |  Task loss: 3.6768 | T: 36.57s\n",
      "| It: 4801 | Rec. loss: 0.0176 |  Task loss: 3.6817 | T: 36.50s\n",
      "| It: 4901 | Rec. loss: 0.0182 |  Task loss: 3.6609 | T: 36.60s\n",
      "| It: 5001 | Rec. loss: 0.0190 |  Task loss: 3.6705 | T: 36.40s\n",
      "| It: 5101 | Rec. loss: 0.0199 |  Task loss: 3.6584 | T: 36.75s\n",
      "| It: 5201 | Rec. loss: 0.0199 |  Task loss: 3.6768 | T: 36.65s\n",
      "| It: 5301 | Rec. loss: 0.0211 |  Task loss: 3.6529 | T: 36.56s\n",
      "| It: 5401 | Rec. loss: 0.0187 |  Task loss: 3.6614 | T: 36.62s\n",
      "| It: 5501 | Rec. loss: 0.0195 |  Task loss: 3.6758 | T: 36.59s\n",
      "| It: 5601 | Rec. loss: 0.0196 |  Task loss: 3.6686 | T: 36.56s\n",
      "| It: 5701 | Rec. loss: 0.0167 |  Task loss: 3.6686 | T: 36.59s\n",
      "| It: 5801 | Rec. loss: 0.0212 |  Task loss: 3.6848 | T: 36.43s\n",
      "| It: 5901 | Rec. loss: 0.0200 |  Task loss: 3.6495 | T: 36.66s\n",
      "| It: 6001 | Rec. loss: 0.0186 |  Task loss: 3.6684 | T: 36.78s\n",
      "| It: 6101 | Rec. loss: 0.0170 |  Task loss: 3.6863 | T: 36.48s\n",
      "| It: 6201 | Rec. loss: 0.0191 |  Task loss: 3.6764 | T: 36.51s\n",
      "| It: 6301 | Rec. loss: 0.0197 |  Task loss: 3.6799 | T: 36.50s\n",
      "| It: 6401 | Rec. loss: 0.0190 |  Task loss: 3.6905 | T: 36.52s\n",
      "| It: 6501 | Rec. loss: 0.0215 |  Task loss: 3.6705 | T: 36.40s\n",
      "| It: 6601 | Rec. loss: 0.0189 |  Task loss: 3.6846 | T: 36.73s\n",
      "| It: 6701 | Rec. loss: 0.0185 |  Task loss: 3.6804 | T: 36.50s\n",
      "| It: 6801 | Rec. loss: 0.0194 |  Task loss: 3.7022 | T: 36.50s\n",
      "| It: 6901 | Rec. loss: 0.0196 |  Task loss: 3.6921 | T: 36.58s\n",
      "| It: 7001 | Rec. loss: 0.0186 |  Task loss: 3.6868 | T: 36.45s\n",
      "| It: 7101 | Rec. loss: 0.0185 |  Task loss: 3.6808 | T: 36.59s\n",
      "| It: 7201 | Rec. loss: 0.0174 |  Task loss: 3.7124 | T: 36.64s\n",
      "| It: 7301 | Rec. loss: 0.0193 |  Task loss: 3.6876 | T: 36.43s\n",
      "| It: 7401 | Rec. loss: 0.0197 |  Task loss: 3.7050 | T: 36.56s\n",
      "| It: 7501 | Rec. loss: 0.0190 |  Task loss: 3.6732 | T: 36.57s\n",
      "| It: 7601 | Rec. loss: 0.0196 |  Task loss: 3.7009 | T: 36.61s\n",
      "| It: 7701 | Rec. loss: 0.0215 |  Task loss: 3.6679 | T: 36.47s\n",
      "| It: 7801 | Rec. loss: 0.0194 |  Task loss: 3.6989 | T: 36.63s\n",
      "| It: 7901 | Rec. loss: 0.0191 |  Task loss: 3.6747 | T: 36.63s\n",
      "| It: 8001 | Rec. loss: 0.0177 |  Task loss: 3.6746 | T: 36.65s\n",
      "| It: 8101 | Rec. loss: 0.0177 |  Task loss: 3.6554 | T: 36.90s\n",
      "| It: 8201 | Rec. loss: 0.0209 |  Task loss: 3.6530 | T: 36.42s\n",
      "| It: 8301 | Rec. loss: 0.0194 |  Task loss: 3.6813 | T: 36.51s\n",
      "| It: 8401 | Rec. loss: 0.0184 |  Task loss: 3.6743 | T: 36.57s\n",
      "| It: 8501 | Rec. loss: 0.0198 |  Task loss: 3.6729 | T: 36.60s\n",
      "| It: 8601 | Rec. loss: 0.0200 |  Task loss: 3.6991 | T: 36.66s\n",
      "| It: 8701 | Rec. loss: 0.0203 |  Task loss: 3.6815 | T: 36.60s\n",
      "| It: 8801 | Rec. loss: 0.0187 |  Task loss: 3.6746 | T: 36.61s\n",
      "| It: 8901 | Rec. loss: 0.0192 |  Task loss: 3.6484 | T: 36.64s\n",
      "| It: 9001 | Rec. loss: 0.0217 |  Task loss: 3.6697 | T: 36.58s\n",
      "| It: 9101 | Rec. loss: 0.0171 |  Task loss: 3.7276 | T: 36.69s\n",
      "| It: 9201 | Rec. loss: 0.0160 |  Task loss: 3.7487 | T: 36.45s\n",
      "| It: 9301 | Rec. loss: 0.0167 |  Task loss: 3.7379 | T: 36.60s\n",
      "| It: 9401 | Rec. loss: 0.0159 |  Task loss: 3.7556 | T: 36.58s\n",
      "| It: 9501 | Rec. loss: 0.0146 |  Task loss: 3.7569 | T: 36.60s\n",
      "| It: 9601 | Rec. loss: 0.0154 |  Task loss: 3.7531 | T: 36.55s\n",
      "| It: 9701 | Rec. loss: 0.0150 |  Task loss: 3.7842 | T: 36.47s\n",
      "| It: 9801 | Rec. loss: 0.0152 |  Task loss: 3.7714 | T: 36.57s\n",
      "| It: 9901 | Rec. loss: 0.0137 |  Task loss: 3.7641 | T: 36.61s\n",
      "| It: 10001 | Rec. loss: 0.0150 |  Task loss: 3.7670 | T: 36.47s\n",
      "| It: 10101 | Rec. loss: 0.0161 |  Task loss: 3.7699 | T: 36.62s\n",
      "| It: 10201 | Rec. loss: 0.0162 |  Task loss: 3.7906 | T: 36.48s\n",
      "| It: 10301 | Rec. loss: 0.0149 |  Task loss: 3.7707 | T: 36.40s\n",
      "| It: 10401 | Rec. loss: 0.0157 |  Task loss: 3.7663 | T: 36.81s\n",
      "| It: 10501 | Rec. loss: 0.0152 |  Task loss: 3.7579 | T: 36.59s\n",
      "| It: 10601 | Rec. loss: 0.0169 |  Task loss: 3.7643 | T: 36.45s\n",
      "| It: 10701 | Rec. loss: 0.0173 |  Task loss: 3.7547 | T: 36.50s\n",
      "| It: 10801 | Rec. loss: 0.0177 |  Task loss: 3.7662 | T: 36.61s\n",
      "| It: 10901 | Rec. loss: 0.0179 |  Task loss: 3.7708 | T: 36.56s\n",
      "| It: 11001 | Rec. loss: 0.0152 |  Task loss: 3.7735 | T: 36.60s\n",
      "| It: 11101 | Rec. loss: 0.0159 |  Task loss: 3.7839 | T: 36.52s\n",
      "| It: 11201 | Rec. loss: 0.0133 |  Task loss: 3.7793 | T: 36.46s\n",
      "| It: 11301 | Rec. loss: 0.0152 |  Task loss: 3.7471 | T: 36.42s\n",
      "| It: 11401 | Rec. loss: 0.0133 |  Task loss: 3.7617 | T: 36.51s\n",
      "| It: 11501 | Rec. loss: 0.0142 |  Task loss: 3.7523 | T: 36.51s\n",
      "| It: 11601 | Rec. loss: 0.0136 |  Task loss: 3.7648 | T: 36.46s\n",
      "| It: 11701 | Rec. loss: 0.0150 |  Task loss: 3.7610 | T: 36.34s\n",
      "| It: 11801 | Rec. loss: 0.0141 |  Task loss: 3.7651 | T: 36.47s\n",
      "| It: 11901 | Rec. loss: 0.0156 |  Task loss: 3.7482 | T: 36.65s\n",
      "| It: 12001 | Rec. loss: 0.0140 |  Task loss: 3.7550 | T: 36.63s\n",
      "| It: 12101 | Rec. loss: 0.0139 |  Task loss: 3.7576 | T: 36.62s\n",
      "| It: 12201 | Rec. loss: 0.0147 |  Task loss: 3.7628 | T: 36.66s\n",
      "| It: 12301 | Rec. loss: 0.0163 |  Task loss: 3.7448 | T: 36.64s\n",
      "| It: 12401 | Rec. loss: 0.0156 |  Task loss: 3.7713 | T: 36.55s\n",
      "| It: 12501 | Rec. loss: 0.0143 |  Task loss: 3.7873 | T: 36.74s\n",
      "| It: 12601 | Rec. loss: 0.0158 |  Task loss: 3.7754 | T: 36.30s\n",
      "| It: 12701 | Rec. loss: 0.0141 |  Task loss: 3.7657 | T: 36.56s\n"
     ]
    },
    {
     "name": "stdout",
     "output_type": "stream",
     "text": [
      "| It: 12801 | Rec. loss: 0.0126 |  Task loss: 3.7829 | T: 36.62s\n",
      "| It: 12901 | Rec. loss: 0.0148 |  Task loss: 3.7723 | T: 36.59s\n",
      "| It: 13001 | Rec. loss: 0.0145 |  Task loss: 3.7641 | T: 36.59s\n",
      "| It: 13101 | Rec. loss: 0.0154 |  Task loss: 3.7611 | T: 36.54s\n",
      "| It: 13201 | Rec. loss: 0.0149 |  Task loss: 3.7811 | T: 36.76s\n",
      "| It: 13301 | Rec. loss: 0.0154 |  Task loss: 3.7709 | T: 36.62s\n",
      "| It: 13401 | Rec. loss: 0.0152 |  Task loss: 3.7720 | T: 36.65s\n",
      "| It: 13501 | Rec. loss: 0.0142 |  Task loss: 3.7775 | T: 36.54s\n",
      "| It: 13601 | Rec. loss: 0.0142 |  Task loss: 3.7472 | T: 36.54s\n",
      "| It: 13701 | Rec. loss: 0.0149 |  Task loss: 3.7615 | T: 36.61s\n",
      "| It: 13801 | Rec. loss: 0.0142 |  Task loss: 3.7499 | T: 36.59s\n",
      "| It: 13901 | Rec. loss: 0.0148 |  Task loss: 3.7677 | T: 36.51s\n",
      "| It: 14001 | Rec. loss: 0.0146 |  Task loss: 3.7696 | T: 36.68s\n",
      "| It: 14101 | Rec. loss: 0.0171 |  Task loss: 3.7900 | T: 36.37s\n",
      "| It: 14201 | Rec. loss: 0.0180 |  Task loss: 3.7744 | T: 36.66s\n",
      "| It: 14301 | Rec. loss: 0.0176 |  Task loss: 3.7687 | T: 36.69s\n",
      "| It: 14401 | Rec. loss: 0.0144 |  Task loss: 3.7709 | T: 36.52s\n",
      "| It: 14501 | Rec. loss: 0.0161 |  Task loss: 3.7511 | T: 36.75s\n",
      "| It: 14601 | Rec. loss: 0.0174 |  Task loss: 3.7535 | T: 36.51s\n",
      "| It: 14701 | Rec. loss: 0.0164 |  Task loss: 3.7541 | T: 36.76s\n",
      "| It: 14801 | Rec. loss: 0.0137 |  Task loss: 3.7638 | T: 36.56s\n",
      "| It: 14901 | Rec. loss: 0.0139 |  Task loss: 3.7571 | T: 36.48s\n",
      "| It: 15001 | Rec. loss: 0.0157 |  Task loss: 3.7542 | T: 36.50s\n",
      "| It: 15101 | Rec. loss: 0.0146 |  Task loss: 3.7510 | T: 36.75s\n",
      "| It: 15201 | Rec. loss: 0.0144 |  Task loss: 3.7637 | T: 36.30s\n",
      "| It: 15301 | Rec. loss: 0.0142 |  Task loss: 3.7628 | T: 36.57s\n",
      "| It: 15401 | Rec. loss: 0.0134 |  Task loss: 3.7690 | T: 36.53s\n",
      "| It: 15501 | Rec. loss: 0.0137 |  Task loss: 3.7696 | T: 36.61s\n",
      "| It: 15601 | Rec. loss: 0.0143 |  Task loss: 3.7656 | T: 36.70s\n",
      "| It: 15701 | Rec. loss: 0.0154 |  Task loss: 3.7636 | T: 36.63s\n",
      "| It: 15801 | Rec. loss: 0.0145 |  Task loss: 3.7617 | T: 36.57s\n",
      "| It: 15901 | Rec. loss: 0.0148 |  Task loss: 3.7630 | T: 36.53s\n",
      "| It: 16001 | Rec. loss: 0.0163 |  Task loss: 3.7577 | T: 36.54s\n",
      "| It: 16101 | Rec. loss: 0.0169 |  Task loss: 3.7609 | T: 36.44s\n",
      "| It: 16201 | Rec. loss: 0.0183 |  Task loss: 3.7593 | T: 36.45s\n",
      "| It: 16301 | Rec. loss: 0.0180 |  Task loss: 3.7566 | T: 36.67s\n",
      "| It: 16401 | Rec. loss: 0.0164 |  Task loss: 3.7620 | T: 36.50s\n",
      "| It: 16501 | Rec. loss: 0.0165 |  Task loss: 3.7593 | T: 36.54s\n",
      "| It: 16601 | Rec. loss: 0.0163 |  Task loss: 3.7624 | T: 36.56s\n",
      "| It: 16701 | Rec. loss: 0.0169 |  Task loss: 3.7581 | T: 36.46s\n",
      "| It: 16801 | Rec. loss: 0.0159 |  Task loss: 3.7580 | T: 36.57s\n",
      "| It: 16901 | Rec. loss: 0.0159 |  Task loss: 3.7649 | T: 36.51s\n",
      "| It: 17001 | Rec. loss: 0.0155 |  Task loss: 3.7690 | T: 36.51s\n",
      "| It: 17101 | Rec. loss: 0.0149 |  Task loss: 3.7660 | T: 36.56s\n",
      "| It: 17201 | Rec. loss: 0.0150 |  Task loss: 3.7683 | T: 36.58s\n",
      "| It: 17301 | Rec. loss: 0.0149 |  Task loss: 3.7753 | T: 36.76s\n",
      "| It: 17401 | Rec. loss: 0.0144 |  Task loss: 3.7813 | T: 36.46s\n",
      "| It: 17501 | Rec. loss: 0.0133 |  Task loss: 3.7825 | T: 36.57s\n",
      "| It: 17601 | Rec. loss: 0.0142 |  Task loss: 3.7843 | T: 36.73s\n",
      "| It: 17701 | Rec. loss: 0.0143 |  Task loss: 3.7771 | T: 36.55s\n",
      "| It: 17801 | Rec. loss: 0.0136 |  Task loss: 3.7769 | T: 36.76s\n",
      "| It: 17901 | Rec. loss: 0.0135 |  Task loss: 3.7755 | T: 36.54s\n",
      "| It: 18001 | Rec. loss: 0.0147 |  Task loss: 3.7780 | T: 36.65s\n",
      "| It: 18101 | Rec. loss: 0.0145 |  Task loss: 3.7792 | T: 36.63s\n",
      "| It: 18201 | Rec. loss: 0.0142 |  Task loss: 3.7788 | T: 36.48s\n",
      "| It: 18301 | Rec. loss: 0.0145 |  Task loss: 3.7812 | T: 36.48s\n",
      "| It: 18401 | Rec. loss: 0.0139 |  Task loss: 3.7794 | T: 36.57s\n",
      "| It: 18501 | Rec. loss: 0.0145 |  Task loss: 3.7827 | T: 36.52s\n",
      "| It: 18601 | Rec. loss: 0.0139 |  Task loss: 3.7874 | T: 36.45s\n",
      "| It: 18701 | Rec. loss: 0.0138 |  Task loss: 3.7992 | T: 36.44s\n",
      "| It: 18801 | Rec. loss: 0.0134 |  Task loss: 3.7974 | T: 36.52s\n",
      "| It: 18901 | Rec. loss: 0.0133 |  Task loss: 3.7904 | T: 36.49s\n",
      "| It: 19001 | Rec. loss: 0.0130 |  Task loss: 3.7792 | T: 36.59s\n",
      "| It: 19101 | Rec. loss: 0.0137 |  Task loss: 3.7792 | T: 36.47s\n",
      "| It: 19201 | Rec. loss: 0.0142 |  Task loss: 3.7806 | T: 36.75s\n",
      "| It: 19301 | Rec. loss: 0.0144 |  Task loss: 3.7842 | T: 36.54s\n",
      "| It: 19401 | Rec. loss: 0.0157 |  Task loss: 3.7780 | T: 36.56s\n",
      "| It: 19501 | Rec. loss: 0.0162 |  Task loss: 3.7776 | T: 36.39s\n",
      "| It: 19601 | Rec. loss: 0.0155 |  Task loss: 3.7788 | T: 36.68s\n",
      "| It: 19701 | Rec. loss: 0.0156 |  Task loss: 3.7845 | T: 36.41s\n",
      "| It: 19801 | Rec. loss: 0.0161 |  Task loss: 3.7888 | T: 36.58s\n",
      "| It: 19901 | Rec. loss: 0.0161 |  Task loss: 3.7848 | T: 36.47s\n",
      "| It: 20001 | Rec. loss: 0.0172 |  Task loss: 3.7843 | T: 36.50s\n",
      "| It: 20101 | Rec. loss: 0.0167 |  Task loss: 3.7801 | T: 36.61s\n",
      "| It: 20201 | Rec. loss: 0.0174 |  Task loss: 3.7834 | T: 36.76s\n",
      "| It: 20301 | Rec. loss: 0.0171 |  Task loss: 3.7853 | T: 36.60s\n",
      "| It: 20401 | Rec. loss: 0.0179 |  Task loss: 3.7899 | T: 36.50s\n",
      "| It: 20501 | Rec. loss: 0.0166 |  Task loss: 3.7891 | T: 36.50s\n",
      "| It: 20601 | Rec. loss: 0.0168 |  Task loss: 3.7873 | T: 36.66s\n",
      "| It: 20701 | Rec. loss: 0.0166 |  Task loss: 3.7862 | T: 36.62s\n",
      "| It: 20801 | Rec. loss: 0.0163 |  Task loss: 3.7834 | T: 36.38s\n",
      "| It: 20901 | Rec. loss: 0.0173 |  Task loss: 3.7775 | T: 36.66s\n",
      "| It: 21001 | Rec. loss: 0.0185 |  Task loss: 3.7766 | T: 36.54s\n",
      "| It: 21101 | Rec. loss: 0.0185 |  Task loss: 3.7748 | T: 36.50s\n",
      "| It: 21201 | Rec. loss: 0.0190 |  Task loss: 3.7750 | T: 36.61s\n",
      "| It: 21301 | Rec. loss: 0.0190 |  Task loss: 3.7749 | T: 36.65s\n",
      "| It: 21401 | Rec. loss: 0.0190 |  Task loss: 3.7749 | T: 36.46s\n",
      "| It: 21501 | Rec. loss: 0.0188 |  Task loss: 3.7755 | T: 36.75s\n",
      "| It: 21601 | Rec. loss: 0.0184 |  Task loss: 3.7777 | T: 36.53s\n",
      "| It: 21701 | Rec. loss: 0.0185 |  Task loss: 3.7787 | T: 36.65s\n",
      "| It: 21801 | Rec. loss: 0.0187 |  Task loss: 3.7794 | T: 36.44s\n",
      "| It: 21901 | Rec. loss: 0.0181 |  Task loss: 3.7777 | T: 36.78s\n",
      "| It: 22001 | Rec. loss: 0.0181 |  Task loss: 3.7775 | T: 36.59s\n",
      "| It: 22101 | Rec. loss: 0.0180 |  Task loss: 3.7785 | T: 36.41s\n",
      "| It: 22201 | Rec. loss: 0.0176 |  Task loss: 3.7780 | T: 36.77s\n",
      "| It: 22301 | Rec. loss: 0.0169 |  Task loss: 3.7780 | T: 36.53s\n",
      "| It: 22401 | Rec. loss: 0.0169 |  Task loss: 3.7774 | T: 36.56s\n",
      "| It: 22501 | Rec. loss: 0.0172 |  Task loss: 3.7770 | T: 36.54s\n",
      "| It: 22601 | Rec. loss: 0.0170 |  Task loss: 3.7763 | T: 36.70s\n",
      "| It: 22701 | Rec. loss: 0.0173 |  Task loss: 3.7759 | T: 36.43s\n",
      "| It: 22801 | Rec. loss: 0.0172 |  Task loss: 3.7742 | T: 36.50s\n",
      "| It: 22901 | Rec. loss: 0.0172 |  Task loss: 3.7751 | T: 36.53s\n",
      "| It: 23001 | Rec. loss: 0.0172 |  Task loss: 3.7765 | T: 36.48s\n",
      "| It: 23101 | Rec. loss: 0.0170 |  Task loss: 3.7782 | T: 36.54s\n",
      "| It: 23201 | Rec. loss: 0.0168 |  Task loss: 3.7798 | T: 36.63s\n",
      "| It: 23301 | Rec. loss: 0.0167 |  Task loss: 3.7772 | T: 36.64s\n",
      "| It: 23401 | Rec. loss: 0.0164 |  Task loss: 3.7792 | T: 36.29s\n",
      "| It: 23501 | Rec. loss: 0.0163 |  Task loss: 3.7786 | T: 36.66s\n",
      "| It: 23601 | Rec. loss: 0.0164 |  Task loss: 3.7795 | T: 36.70s\n",
      "| It: 23701 | Rec. loss: 0.0163 |  Task loss: 3.7794 | T: 36.60s\n",
      "| It: 23801 | Rec. loss: 0.0163 |  Task loss: 3.7816 | T: 36.59s\n",
      "| It: 23901 | Rec. loss: 0.0161 |  Task loss: 3.7812 | T: 36.59s\n",
      "| It: 24000 | Rec. loss: 0.0158 |  Task loss: 3.7802 | T: 36.11s\n",
      "Optimal candidate solution with rec. loss 0.0119 selected.\n"
     ]
    }
   ],
   "source": [
    "reconstructed_user_data, stats = attacker.reconstruct([server_payload], [shared_data], {}, dryrun=cfg.dryrun)"
   ]
  },
  {
   "cell_type": "markdown",
   "id": "d746e854",
   "metadata": {},
   "source": [
    "Next we'll evaluate metrics, comparing the `reconstructed_user_data` to the `true_user_data`."
   ]
  },
  {
   "cell_type": "code",
   "execution_count": 8,
   "id": "31f2685a",
   "metadata": {},
   "outputs": [
    {
     "name": "stdout",
     "output_type": "stream",
     "text": [
      "Starting evaluations for attack effectiveness report...\n",
      "Files already downloaded and verified\n",
      "METRICS: | MSE: 0.0059 | PSNR: 22.36 | FMSE: 1.2377e-03 | LPIPS: 0.03|\n",
      " R-PSNR: 22.36 | IIP-pixel: 100.00% | SSIM: 0.7551 | max R-PSNR: 23.51 | max SSIM: 0.8135 | Label Acc: 100.00%\n"
     ]
    }
   ],
   "source": [
    "metrics = breaching.analysis.report(reconstructed_user_data, true_user_data, [server_payload], \n",
    "                                    server.model, order_batch=True, compute_full_iip=False, \n",
    "                                    cfg_case=cfg.case, max_length=max_length, setup=setup)"
   ]
  },
  {
   "cell_type": "markdown",
   "id": "9caa5d02",
   "metadata": {},
   "source": [
    "And finally, we also plot the reconstructed data:"
   ]
  },
  {
   "cell_type": "code",
   "execution_count": 9,
   "id": "631f4a84",
   "metadata": {},
   "outputs": [
    {
     "data": {
      "image/png": "[encoded data removed]",
      "text/plain": [
       "<Figure size 600x600 with 4 Axes>"
      ]
     },
     "metadata": {},
     "output_type": "display_data"
    }
   ],
   "source": [
    "user.plot(reconstructed_user_data)"
   ]
  },
  {
   "cell_type": "markdown",
   "id": "50889063",
   "metadata": {},
   "source": [
    "### Notes:\n",
    "* If labels are unknown, then a robust label recovery algorithm has to be used that does not count label repetitions due to shifts after local updates."
   ]
  }
 ],
 "metadata": {
  "kernelspec": {
   "display_name": "Python 3 (ipykernel)",
   "language": "python",
   "name": "python3"
  },
  "language_info": {
   "codemirror_mode": {
    "name": "ipython",
    "version": 3
   },
   "file_extension": ".py",
   "mimetype": "text/x-python",
   "name": "python",
   "nbconvert_exporter": "python",
   "pygments_lexer": "ipython3",
   "version": "3.9.16"
  }
 },
 "nbformat": 4,
 "nbformat_minor": 5
}
